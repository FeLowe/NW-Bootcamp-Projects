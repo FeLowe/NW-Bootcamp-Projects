{
 "cells": [
  {
   "cell_type": "code",
   "execution_count": 1,
   "metadata": {},
   "outputs": [],
   "source": [
    "# Dependencies and Setup\n",
    "import matplotlib.pyplot as plt\n",
    "import pandas as pd\n",
    "import numpy as np\n",
    "import requests\n",
    "import json\n",
    "import os\n",
    "import csv\n",
    "\n",
    "# API Key\n",
    "from config import api_key\n",
    "\n",
    "#ZillowWrapper\n",
    "from pyzillow.pyzillow import ZillowWrapper, GetDeepSearchResults"
   ]
  },
  {
   "cell_type": "code",
   "execution_count": 2,
   "metadata": {
    "scrolled": true
   },
   "outputs": [
    {
     "data": {
      "text/html": [
       "<div>\n",
       "<style scoped>\n",
       "    .dataframe tbody tr th:only-of-type {\n",
       "        vertical-align: middle;\n",
       "    }\n",
       "\n",
       "    .dataframe tbody tr th {\n",
       "        vertical-align: top;\n",
       "    }\n",
       "\n",
       "    .dataframe thead th {\n",
       "        text-align: right;\n",
       "    }\n",
       "</style>\n",
       "<table border=\"1\" class=\"dataframe\">\n",
       "  <thead>\n",
       "    <tr style=\"text-align: right;\">\n",
       "      <th></th>\n",
       "      <th>Address</th>\n",
       "      <th>Zip</th>\n",
       "    </tr>\n",
       "  </thead>\n",
       "  <tbody>\n",
       "    <tr>\n",
       "      <th>0</th>\n",
       "      <td>5 14th</td>\n",
       "      <td>60605</td>\n",
       "    </tr>\n",
       "    <tr>\n",
       "      <th>1</th>\n",
       "      <td>8 9th</td>\n",
       "      <td>60605</td>\n",
       "    </tr>\n",
       "    <tr>\n",
       "      <th>2</th>\n",
       "      <td>234 Ashland</td>\n",
       "      <td>60605</td>\n",
       "    </tr>\n",
       "    <tr>\n",
       "      <th>3</th>\n",
       "      <td>1733 Congress</td>\n",
       "      <td>60605</td>\n",
       "    </tr>\n",
       "    <tr>\n",
       "      <th>4</th>\n",
       "      <td>1753 Congress</td>\n",
       "      <td>60605</td>\n",
       "    </tr>\n",
       "  </tbody>\n",
       "</table>\n",
       "</div>"
      ],
      "text/plain": [
       "          Address    Zip\n",
       "0         5 14th   60605\n",
       "1          8 9th   60605\n",
       "2     234 Ashland  60605\n",
       "3   1733 Congress  60605\n",
       "4  1753 Congress   60605"
      ]
     },
     "execution_count": 2,
     "metadata": {},
     "output_type": "execute_result"
    }
   ],
   "source": [
    "#Read csv\n",
    "address_zip_df = pd.read_csv('ChicagoAddress.csv').dropna()\n",
    "address_zip_df.head()\n"
   ]
  },
  {
   "cell_type": "code",
   "execution_count": 46,
   "metadata": {},
   "outputs": [],
   "source": [
    "test_data = address_zip_df.head(20)"
   ]
  },
  {
   "cell_type": "code",
   "execution_count": 47,
   "metadata": {
    "scrolled": true
   },
   "outputs": [
    {
     "data": {
      "text/html": [
       "<div>\n",
       "<style scoped>\n",
       "    .dataframe tbody tr th:only-of-type {\n",
       "        vertical-align: middle;\n",
       "    }\n",
       "\n",
       "    .dataframe tbody tr th {\n",
       "        vertical-align: top;\n",
       "    }\n",
       "\n",
       "    .dataframe thead th {\n",
       "        text-align: right;\n",
       "    }\n",
       "</style>\n",
       "<table border=\"1\" class=\"dataframe\">\n",
       "  <thead>\n",
       "    <tr style=\"text-align: right;\">\n",
       "      <th></th>\n",
       "      <th>Address</th>\n",
       "      <th>Zip</th>\n",
       "    </tr>\n",
       "  </thead>\n",
       "  <tbody>\n",
       "    <tr>\n",
       "      <th>0</th>\n",
       "      <td>5 14th</td>\n",
       "      <td>60605</td>\n",
       "    </tr>\n",
       "    <tr>\n",
       "      <th>1</th>\n",
       "      <td>8 9th</td>\n",
       "      <td>60605</td>\n",
       "    </tr>\n",
       "    <tr>\n",
       "      <th>2</th>\n",
       "      <td>234 Ashland</td>\n",
       "      <td>60605</td>\n",
       "    </tr>\n",
       "    <tr>\n",
       "      <th>3</th>\n",
       "      <td>1733 Congress</td>\n",
       "      <td>60605</td>\n",
       "    </tr>\n",
       "    <tr>\n",
       "      <th>4</th>\n",
       "      <td>1753 Congress</td>\n",
       "      <td>60605</td>\n",
       "    </tr>\n",
       "    <tr>\n",
       "      <th>5</th>\n",
       "      <td>730 Couch</td>\n",
       "      <td>60605</td>\n",
       "    </tr>\n",
       "    <tr>\n",
       "      <th>6</th>\n",
       "      <td>123 Desplaines</td>\n",
       "      <td>60605</td>\n",
       "    </tr>\n",
       "    <tr>\n",
       "      <th>7</th>\n",
       "      <td>24 E 11th St</td>\n",
       "      <td>60605</td>\n",
       "    </tr>\n",
       "    <tr>\n",
       "      <th>8</th>\n",
       "      <td>23 E 13th St 606</td>\n",
       "      <td>60605</td>\n",
       "    </tr>\n",
       "    <tr>\n",
       "      <th>9</th>\n",
       "      <td>125 E 13th St</td>\n",
       "      <td>60605</td>\n",
       "    </tr>\n",
       "    <tr>\n",
       "      <th>10</th>\n",
       "      <td>125 E 13th St 1001</td>\n",
       "      <td>60605</td>\n",
       "    </tr>\n",
       "    <tr>\n",
       "      <th>11</th>\n",
       "      <td>125 E 13th St 1002</td>\n",
       "      <td>60605</td>\n",
       "    </tr>\n",
       "    <tr>\n",
       "      <th>12</th>\n",
       "      <td>125 E 13th St 1003</td>\n",
       "      <td>60605</td>\n",
       "    </tr>\n",
       "    <tr>\n",
       "      <th>13</th>\n",
       "      <td>125 E 13th St 1004</td>\n",
       "      <td>60605</td>\n",
       "    </tr>\n",
       "    <tr>\n",
       "      <th>14</th>\n",
       "      <td>125 E 13th St 1005</td>\n",
       "      <td>60605</td>\n",
       "    </tr>\n",
       "    <tr>\n",
       "      <th>15</th>\n",
       "      <td>125 E 13th St 1006</td>\n",
       "      <td>60605</td>\n",
       "    </tr>\n",
       "    <tr>\n",
       "      <th>16</th>\n",
       "      <td>125 E 13th St 1007</td>\n",
       "      <td>60605</td>\n",
       "    </tr>\n",
       "    <tr>\n",
       "      <th>17</th>\n",
       "      <td>125 E 13th St 1008</td>\n",
       "      <td>60605</td>\n",
       "    </tr>\n",
       "    <tr>\n",
       "      <th>18</th>\n",
       "      <td>125 E 13th St 1009</td>\n",
       "      <td>60605</td>\n",
       "    </tr>\n",
       "    <tr>\n",
       "      <th>19</th>\n",
       "      <td>125 E 13th St 1010</td>\n",
       "      <td>60605</td>\n",
       "    </tr>\n",
       "  </tbody>\n",
       "</table>\n",
       "</div>"
      ],
      "text/plain": [
       "                Address    Zip\n",
       "0               5 14th   60605\n",
       "1                8 9th   60605\n",
       "2           234 Ashland  60605\n",
       "3         1733 Congress  60605\n",
       "4        1753 Congress   60605\n",
       "5             730 Couch  60605\n",
       "6        123 Desplaines  60605\n",
       "7          24 E 11th St  60605\n",
       "8     23 E 13th St 606   60605\n",
       "9        125 E 13th St   60605\n",
       "10  125 E 13th St 1001   60605\n",
       "11  125 E 13th St 1002   60605\n",
       "12  125 E 13th St 1003   60605\n",
       "13  125 E 13th St 1004   60605\n",
       "14  125 E 13th St 1005   60605\n",
       "15  125 E 13th St 1006   60605\n",
       "16  125 E 13th St 1007   60605\n",
       "17  125 E 13th St 1008   60605\n",
       "18  125 E 13th St 1009   60605\n",
       "19  125 E 13th St 1010   60605"
      ]
     },
     "execution_count": 47,
     "metadata": {},
     "output_type": "execute_result"
    }
   ],
   "source": [
    "test_data"
   ]
  },
  {
   "cell_type": "code",
   "execution_count": 42,
   "metadata": {},
   "outputs": [
    {
     "data": {
      "text/plain": [
       "(20, 2)"
      ]
     },
     "execution_count": 42,
     "metadata": {},
     "output_type": "execute_result"
    }
   ],
   "source": [
    "test_data.shape"
   ]
  },
  {
   "cell_type": "code",
   "execution_count": 43,
   "metadata": {},
   "outputs": [
    {
     "data": {
      "text/plain": [
       "(18293, 2)"
      ]
     },
     "execution_count": 43,
     "metadata": {},
     "output_type": "execute_result"
    }
   ],
   "source": [
    "address_zip_df.shape"
   ]
  },
  {
   "cell_type": "code",
   "execution_count": 3,
   "metadata": {},
   "outputs": [],
   "source": [
    "address = '4244 N Pulaski'\n",
    "zipcode = '60641'\n",
    "\n",
    "zillow_data = ZillowWrapper(api_key)\n",
    "response = zillow_data.get_deep_search_results(address, zipcode)\n",
    "result = GetDeepSearchResults(response)\n",
    "result.home_size"
   ]
  },
  {
   "cell_type": "code",
   "execution_count": 4,
   "metadata": {},
   "outputs": [],
   "source": [
    "bad_address = \"234 Ashland\"\n",
    "bad_zip = \"60605\""
   ]
  },
  {
   "cell_type": "code",
   "execution_count": 18,
   "metadata": {},
   "outputs": [],
   "source": [
    "good_address = \"125 E 13th St 1001\"\n",
    "good_zip = \"60605\""
   ]
  },
  {
   "cell_type": "code",
   "execution_count": 37,
   "metadata": {},
   "outputs": [],
   "source": [
    "zillow_data = ZillowWrapper(api_key)\n",
    "\n",
    "def get_zillow_info(address,zipcode):\n",
    "    try:\n",
    "        response = zillow_data.get_deep_search_results(address, zipcode)\n",
    "        result = GetDeepSearchResults(response)\n",
    "        # get tax value\n",
    "        try:\n",
    "            tax = result.tax_value\n",
    "        except AttributeError: \n",
    "            tax = None\n",
    "        # get latitude\n",
    "        try:\n",
    "            lat = result.latitude\n",
    "        except AttributeError:\n",
    "            lat = None\n",
    "        # home value\n",
    "        try:    \n",
    "            hv = result.home_value\n",
    "        except AttributeError:\n",
    "            hv = None\n",
    "        \n",
    "        final = [tax,lat,hv]\n",
    "    except:\n",
    "        final = None\n",
    "    return final"
   ]
  },
  {
   "cell_type": "code",
   "execution_count": null,
   "metadata": {},
   "outputs": [],
   "source": []
  },
  {
   "cell_type": "code",
   "execution_count": 38,
   "metadata": {},
   "outputs": [
    {
     "data": {
      "text/plain": [
       "['324890.0', '41.865548', None]"
      ]
     },
     "execution_count": 38,
     "metadata": {},
     "output_type": "execute_result"
    }
   ],
   "source": [
    "get_zillow_info(good_address,good_zip)"
   ]
  },
  {
   "cell_type": "code",
   "execution_count": 39,
   "metadata": {},
   "outputs": [],
   "source": [
    "get_zillow_info(bad_address,bad_zip)"
   ]
  },
  {
   "cell_type": "code",
   "execution_count": null,
   "metadata": {},
   "outputs": [],
   "source": [
    "#     #Pushes values up (append) to its empty list\n",
    "#             property_address.append(address)\n",
    "#             property_zipcode.append(zipcode)\n",
    "#             property_latitude.append(result.latitude)\n",
    "# property_id.append(result.zillow_id)\n",
    "#             property_type.append(result.home_type)\n",
    "#             property_size.append(result.home_size)\n",
    "#             property_tax.append(float(result.tax_value)) # converts string into float\n",
    "#             property_tax_year.append(result.tax_year)\n",
    "#             property_last_sold.append(result.last_sold_date)\n",
    "#             property_sold_price.append(float(result.last_sold_price))# converts string into float\n",
    "\n",
    "#property_id\n",
    "\n",
    "result"
   ]
  },
  {
   "cell_type": "code",
   "execution_count": null,
   "metadata": {},
   "outputs": [],
   "source": [
    "properties_df = pd.DataFrame({\"Address\": address,\n",
    "                           \"Zipcode\": zipcode,\n",
    "                           \"Latitude\": property_latitude,\n",
    "                           \"Property ID\": property_id,\n",
    "                           \"Type\": property_type,\n",
    "                           \"Size\": property_size,\n",
    "                           \"Tax\": property_tax,\n",
    "                           \"Tax Year\": property_tax_year,\n",
    "                           \"Last Sold\": property_last_sold,\n",
    "                           \"Sale Price\": property_sold_price})\n",
    "\n",
    "#Indexes property id\n",
    "properties_df.set_index(\"Property ID\", inplace = True) \n",
    "    \n",
    "#Formats float number (324890) into monetary value (324,890)                             \n",
    "properties_df[\"Tax\"] = properties_df[\"Tax\"].map(\"${:,.0f}\".format)\n",
    "properties_df[\"Sale Price\"] = properties_df[\"Sale Price\"].map(\"${:,.0f}\".format)\n",
    "properties_df   "
   ]
  },
  {
   "cell_type": "code",
   "execution_count": null,
   "metadata": {},
   "outputs": [],
   "source": []
  },
  {
   "cell_type": "code",
   "execution_count": null,
   "metadata": {},
   "outputs": [],
   "source": []
  }
 ],
 "metadata": {
  "kernelspec": {
   "display_name": "Python 3",
   "language": "python",
   "name": "python3"
  },
  "language_info": {
   "codemirror_mode": {
    "name": "ipython",
    "version": 3
   },
   "file_extension": ".py",
   "mimetype": "text/x-python",
   "name": "python",
   "nbconvert_exporter": "python",
   "pygments_lexer": "ipython3",
   "version": "3.6.7"
  }
 },
 "nbformat": 4,
 "nbformat_minor": 2
}

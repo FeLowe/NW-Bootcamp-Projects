{
 "cells": [
  {
   "cell_type": "code",
   "execution_count": 31,
   "metadata": {},
   "outputs": [],
   "source": [
    "# Dependencies and Setup\n",
    "import matplotlib.pyplot as plt\n",
    "import pandas as pd\n",
    "import numpy as np\n",
    "import requests\n",
    "import json\n",
    "import os\n",
    "import csv\n",
    "import seaborn as sns\n",
    "%matplotlib inline"
   ]
  },
  {
   "cell_type": "code",
   "execution_count": 38,
   "metadata": {
    "scrolled": true
   },
   "outputs": [
    {
     "data": {
      "text/html": [
       "<div>\n",
       "<style scoped>\n",
       "    .dataframe tbody tr th:only-of-type {\n",
       "        vertical-align: middle;\n",
       "    }\n",
       "\n",
       "    .dataframe tbody tr th {\n",
       "        vertical-align: top;\n",
       "    }\n",
       "\n",
       "    .dataframe thead th {\n",
       "        text-align: right;\n",
       "    }\n",
       "</style>\n",
       "<table border=\"1\" class=\"dataframe\">\n",
       "  <thead>\n",
       "    <tr style=\"text-align: right;\">\n",
       "      <th></th>\n",
       "      <th>Address</th>\n",
       "      <th>Zip</th>\n",
       "      <th>Zillow ID</th>\n",
       "      <th>Tax</th>\n",
       "      <th>Tax_Year</th>\n",
       "      <th>Home Type</th>\n",
       "      <th>Home Size</th>\n",
       "      <th>Bathrooms</th>\n",
       "      <th>Bedrooms</th>\n",
       "      <th>Last Sold Date</th>\n",
       "      <th>Last Sold Price</th>\n",
       "      <th>Zestimate Amount</th>\n",
       "      <th>Zestimate Date</th>\n",
       "      <th>Zestimate Value Change</th>\n",
       "    </tr>\n",
       "  </thead>\n",
       "  <tbody>\n",
       "    <tr>\n",
       "      <th>0</th>\n",
       "      <td>5 14th</td>\n",
       "      <td>60605</td>\n",
       "      <td>60204228.0</td>\n",
       "      <td>248760.0</td>\n",
       "      <td>2017.0</td>\n",
       "      <td>Condominium</td>\n",
       "      <td>10593.0</td>\n",
       "      <td>2.0</td>\n",
       "      <td>2.0</td>\n",
       "      <td>05/27/2004</td>\n",
       "      <td>295000.0</td>\n",
       "      <td>395223.0</td>\n",
       "      <td>04/03/2019</td>\n",
       "      <td>48923.0</td>\n",
       "    </tr>\n",
       "    <tr>\n",
       "      <th>8</th>\n",
       "      <td>23 E 13th St 606</td>\n",
       "      <td>60605</td>\n",
       "      <td>70474983.0</td>\n",
       "      <td>513000.0</td>\n",
       "      <td>2017.0</td>\n",
       "      <td>Condominium</td>\n",
       "      <td>78844.0</td>\n",
       "      <td>2.0</td>\n",
       "      <td>2.0</td>\n",
       "      <td>07/20/2012</td>\n",
       "      <td>525000.0</td>\n",
       "      <td>657483.0</td>\n",
       "      <td>04/03/2019</td>\n",
       "      <td>-597.0</td>\n",
       "    </tr>\n",
       "    <tr>\n",
       "      <th>9</th>\n",
       "      <td>125 E 13th St</td>\n",
       "      <td>60605</td>\n",
       "      <td>70474811.0</td>\n",
       "      <td>490400.0</td>\n",
       "      <td>2017.0</td>\n",
       "      <td>Condominium</td>\n",
       "      <td>23332.0</td>\n",
       "      <td>2.0</td>\n",
       "      <td>2.0</td>\n",
       "      <td>04/17/2013</td>\n",
       "      <td>565000.0</td>\n",
       "      <td>645588.0</td>\n",
       "      <td>04/03/2019</td>\n",
       "      <td>-24410.0</td>\n",
       "    </tr>\n",
       "    <tr>\n",
       "      <th>11</th>\n",
       "      <td>125 E 13th St 1002</td>\n",
       "      <td>60605</td>\n",
       "      <td>70474919.0</td>\n",
       "      <td>28050.0</td>\n",
       "      <td>2017.0</td>\n",
       "      <td>Condominium</td>\n",
       "      <td>23332.0</td>\n",
       "      <td>2.0</td>\n",
       "      <td>2.0</td>\n",
       "      <td>06/12/2017</td>\n",
       "      <td>433000.0</td>\n",
       "      <td>36498.0</td>\n",
       "      <td>04/03/2019</td>\n",
       "      <td>96.0</td>\n",
       "    </tr>\n",
       "    <tr>\n",
       "      <th>12</th>\n",
       "      <td>125 E 13th St 1003</td>\n",
       "      <td>60605</td>\n",
       "      <td>70474751.0</td>\n",
       "      <td>321140.0</td>\n",
       "      <td>2017.0</td>\n",
       "      <td>Condominium</td>\n",
       "      <td>23332.0</td>\n",
       "      <td>2.0</td>\n",
       "      <td>2.0</td>\n",
       "      <td>06/12/2017</td>\n",
       "      <td>433000.0</td>\n",
       "      <td>410062.0</td>\n",
       "      <td>04/03/2019</td>\n",
       "      <td>14320.0</td>\n",
       "    </tr>\n",
       "  </tbody>\n",
       "</table>\n",
       "</div>"
      ],
      "text/plain": [
       "                Address    Zip   Zillow ID       Tax  Tax_Year    Home Type  \\\n",
       "0               5 14th   60605  60204228.0  248760.0    2017.0  Condominium   \n",
       "8     23 E 13th St 606   60605  70474983.0  513000.0    2017.0  Condominium   \n",
       "9        125 E 13th St   60605  70474811.0  490400.0    2017.0  Condominium   \n",
       "11  125 E 13th St 1002   60605  70474919.0   28050.0    2017.0  Condominium   \n",
       "12  125 E 13th St 1003   60605  70474751.0  321140.0    2017.0  Condominium   \n",
       "\n",
       "    Home Size  Bathrooms  Bedrooms Last Sold Date  Last Sold Price  \\\n",
       "0     10593.0        2.0       2.0     05/27/2004         295000.0   \n",
       "8     78844.0        2.0       2.0     07/20/2012         525000.0   \n",
       "9     23332.0        2.0       2.0     04/17/2013         565000.0   \n",
       "11    23332.0        2.0       2.0     06/12/2017         433000.0   \n",
       "12    23332.0        2.0       2.0     06/12/2017         433000.0   \n",
       "\n",
       "    Zestimate Amount Zestimate Date  Zestimate Value Change  \n",
       "0           395223.0     04/03/2019                 48923.0  \n",
       "8           657483.0     04/03/2019                  -597.0  \n",
       "9           645588.0     04/03/2019                -24410.0  \n",
       "11           36498.0     04/03/2019                    96.0  \n",
       "12          410062.0     04/03/2019                 14320.0  "
      ]
     },
     "execution_count": 38,
     "metadata": {},
     "output_type": "execute_result"
    }
   ],
   "source": [
    "#Read csv\n",
    "general_df = pd.read_csv('final_zillow_info.csv').dropna() #dropping NAN from all the data in the table\n",
    "general_df.head()"
   ]
  },
  {
   "cell_type": "code",
   "execution_count": 52,
   "metadata": {
    "scrolled": false
   },
   "outputs": [
    {
     "name": "stdout",
     "output_type": "stream",
     "text": [
      "5615\n"
     ]
    },
    {
     "data": {
      "text/html": [
       "<div>\n",
       "<style scoped>\n",
       "    .dataframe tbody tr th:only-of-type {\n",
       "        vertical-align: middle;\n",
       "    }\n",
       "\n",
       "    .dataframe tbody tr th {\n",
       "        vertical-align: top;\n",
       "    }\n",
       "\n",
       "    .dataframe thead th {\n",
       "        text-align: right;\n",
       "    }\n",
       "</style>\n",
       "<table border=\"1\" class=\"dataframe\">\n",
       "  <thead>\n",
       "    <tr style=\"text-align: right;\">\n",
       "      <th></th>\n",
       "      <th>Address</th>\n",
       "      <th>Zip</th>\n",
       "      <th>Zillow ID</th>\n",
       "      <th>Tax</th>\n",
       "      <th>Tax_Year</th>\n",
       "      <th>Home Type</th>\n",
       "      <th>Home Size</th>\n",
       "      <th>Bathrooms</th>\n",
       "      <th>Bedrooms</th>\n",
       "      <th>Sold Date</th>\n",
       "      <th>Sold Price</th>\n",
       "      <th>Current Estimated Value</th>\n",
       "      <th>Estimated Date</th>\n",
       "      <th>Estimated Value Change</th>\n",
       "    </tr>\n",
       "  </thead>\n",
       "  <tbody>\n",
       "    <tr>\n",
       "      <th>0</th>\n",
       "      <td>5 14th</td>\n",
       "      <td>60605</td>\n",
       "      <td>60204228.0</td>\n",
       "      <td>248760.0</td>\n",
       "      <td>2017.0</td>\n",
       "      <td>Condominium</td>\n",
       "      <td>10593.0</td>\n",
       "      <td>2.0</td>\n",
       "      <td>2.0</td>\n",
       "      <td>05/27/2004</td>\n",
       "      <td>295000.0</td>\n",
       "      <td>395223.0</td>\n",
       "      <td>04/03/2019</td>\n",
       "      <td>48923.0</td>\n",
       "    </tr>\n",
       "    <tr>\n",
       "      <th>8</th>\n",
       "      <td>23 E 13th St 606</td>\n",
       "      <td>60605</td>\n",
       "      <td>70474983.0</td>\n",
       "      <td>513000.0</td>\n",
       "      <td>2017.0</td>\n",
       "      <td>Condominium</td>\n",
       "      <td>78844.0</td>\n",
       "      <td>2.0</td>\n",
       "      <td>2.0</td>\n",
       "      <td>07/20/2012</td>\n",
       "      <td>525000.0</td>\n",
       "      <td>657483.0</td>\n",
       "      <td>04/03/2019</td>\n",
       "      <td>-597.0</td>\n",
       "    </tr>\n",
       "    <tr>\n",
       "      <th>9</th>\n",
       "      <td>125 E 13th St</td>\n",
       "      <td>60605</td>\n",
       "      <td>70474811.0</td>\n",
       "      <td>490400.0</td>\n",
       "      <td>2017.0</td>\n",
       "      <td>Condominium</td>\n",
       "      <td>23332.0</td>\n",
       "      <td>2.0</td>\n",
       "      <td>2.0</td>\n",
       "      <td>04/17/2013</td>\n",
       "      <td>565000.0</td>\n",
       "      <td>645588.0</td>\n",
       "      <td>04/03/2019</td>\n",
       "      <td>-24410.0</td>\n",
       "    </tr>\n",
       "    <tr>\n",
       "      <th>11</th>\n",
       "      <td>125 E 13th St 1002</td>\n",
       "      <td>60605</td>\n",
       "      <td>70474919.0</td>\n",
       "      <td>28050.0</td>\n",
       "      <td>2017.0</td>\n",
       "      <td>Condominium</td>\n",
       "      <td>23332.0</td>\n",
       "      <td>2.0</td>\n",
       "      <td>2.0</td>\n",
       "      <td>06/12/2017</td>\n",
       "      <td>433000.0</td>\n",
       "      <td>36498.0</td>\n",
       "      <td>04/03/2019</td>\n",
       "      <td>96.0</td>\n",
       "    </tr>\n",
       "    <tr>\n",
       "      <th>12</th>\n",
       "      <td>125 E 13th St 1003</td>\n",
       "      <td>60605</td>\n",
       "      <td>70474751.0</td>\n",
       "      <td>321140.0</td>\n",
       "      <td>2017.0</td>\n",
       "      <td>Condominium</td>\n",
       "      <td>23332.0</td>\n",
       "      <td>2.0</td>\n",
       "      <td>2.0</td>\n",
       "      <td>06/12/2017</td>\n",
       "      <td>433000.0</td>\n",
       "      <td>410062.0</td>\n",
       "      <td>04/03/2019</td>\n",
       "      <td>14320.0</td>\n",
       "    </tr>\n",
       "  </tbody>\n",
       "</table>\n",
       "</div>"
      ],
      "text/plain": [
       "                Address    Zip   Zillow ID       Tax  Tax_Year    Home Type  \\\n",
       "0               5 14th   60605  60204228.0  248760.0    2017.0  Condominium   \n",
       "8     23 E 13th St 606   60605  70474983.0  513000.0    2017.0  Condominium   \n",
       "9        125 E 13th St   60605  70474811.0  490400.0    2017.0  Condominium   \n",
       "11  125 E 13th St 1002   60605  70474919.0   28050.0    2017.0  Condominium   \n",
       "12  125 E 13th St 1003   60605  70474751.0  321140.0    2017.0  Condominium   \n",
       "\n",
       "    Home Size  Bathrooms  Bedrooms   Sold Date  Sold Price  \\\n",
       "0     10593.0        2.0       2.0  05/27/2004    295000.0   \n",
       "8     78844.0        2.0       2.0  07/20/2012    525000.0   \n",
       "9     23332.0        2.0       2.0  04/17/2013    565000.0   \n",
       "11    23332.0        2.0       2.0  06/12/2017    433000.0   \n",
       "12    23332.0        2.0       2.0  06/12/2017    433000.0   \n",
       "\n",
       "    Current Estimated Value Estimated Date  Estimated Value Change  \n",
       "0                  395223.0     04/03/2019                 48923.0  \n",
       "8                  657483.0     04/03/2019                  -597.0  \n",
       "9                  645588.0     04/03/2019                -24410.0  \n",
       "11                  36498.0     04/03/2019                    96.0  \n",
       "12                 410062.0     04/03/2019                 14320.0  "
      ]
     },
     "execution_count": 52,
     "metadata": {},
     "output_type": "execute_result"
    }
   ],
   "source": [
    "condo_df = general_df.loc[general_df['Home Type']=='Condominium'] #creates a df for 'Condo' only\n",
    "print(len(condo_df))\n",
    "condo_df.head()"
   ]
  },
  {
   "cell_type": "code",
   "execution_count": 53,
   "metadata": {},
   "outputs": [
    {
     "data": {
      "text/html": [
       "<div>\n",
       "<style scoped>\n",
       "    .dataframe tbody tr th:only-of-type {\n",
       "        vertical-align: middle;\n",
       "    }\n",
       "\n",
       "    .dataframe tbody tr th {\n",
       "        vertical-align: top;\n",
       "    }\n",
       "\n",
       "    .dataframe thead th {\n",
       "        text-align: right;\n",
       "    }\n",
       "</style>\n",
       "<table border=\"1\" class=\"dataframe\">\n",
       "  <thead>\n",
       "    <tr style=\"text-align: right;\">\n",
       "      <th></th>\n",
       "      <th>Address</th>\n",
       "      <th>Zip</th>\n",
       "      <th>Zillow ID</th>\n",
       "      <th>Tax</th>\n",
       "      <th>Tax Year</th>\n",
       "      <th>Home Type</th>\n",
       "      <th>Home Size</th>\n",
       "      <th>Bathrooms</th>\n",
       "      <th>Bedrooms</th>\n",
       "      <th>Sold Date</th>\n",
       "      <th>Sold Price</th>\n",
       "      <th>Current Estimated Value</th>\n",
       "      <th>Estimated Date</th>\n",
       "      <th>Estimated Value Change</th>\n",
       "    </tr>\n",
       "  </thead>\n",
       "  <tbody>\n",
       "    <tr>\n",
       "      <th>0</th>\n",
       "      <td>5 14th</td>\n",
       "      <td>60605</td>\n",
       "      <td>60204228.0</td>\n",
       "      <td>248760.0</td>\n",
       "      <td>2017.0</td>\n",
       "      <td>Condominium</td>\n",
       "      <td>10593.0</td>\n",
       "      <td>2.0</td>\n",
       "      <td>2.0</td>\n",
       "      <td>05/27/2004</td>\n",
       "      <td>295000.0</td>\n",
       "      <td>395223.0</td>\n",
       "      <td>04/03/2019</td>\n",
       "      <td>48923.0</td>\n",
       "    </tr>\n",
       "    <tr>\n",
       "      <th>8</th>\n",
       "      <td>23 E 13th St 606</td>\n",
       "      <td>60605</td>\n",
       "      <td>70474983.0</td>\n",
       "      <td>513000.0</td>\n",
       "      <td>2017.0</td>\n",
       "      <td>Condominium</td>\n",
       "      <td>78844.0</td>\n",
       "      <td>2.0</td>\n",
       "      <td>2.0</td>\n",
       "      <td>07/20/2012</td>\n",
       "      <td>525000.0</td>\n",
       "      <td>657483.0</td>\n",
       "      <td>04/03/2019</td>\n",
       "      <td>-597.0</td>\n",
       "    </tr>\n",
       "    <tr>\n",
       "      <th>9</th>\n",
       "      <td>125 E 13th St</td>\n",
       "      <td>60605</td>\n",
       "      <td>70474811.0</td>\n",
       "      <td>490400.0</td>\n",
       "      <td>2017.0</td>\n",
       "      <td>Condominium</td>\n",
       "      <td>23332.0</td>\n",
       "      <td>2.0</td>\n",
       "      <td>2.0</td>\n",
       "      <td>04/17/2013</td>\n",
       "      <td>565000.0</td>\n",
       "      <td>645588.0</td>\n",
       "      <td>04/03/2019</td>\n",
       "      <td>-24410.0</td>\n",
       "    </tr>\n",
       "    <tr>\n",
       "      <th>11</th>\n",
       "      <td>125 E 13th St 1002</td>\n",
       "      <td>60605</td>\n",
       "      <td>70474919.0</td>\n",
       "      <td>28050.0</td>\n",
       "      <td>2017.0</td>\n",
       "      <td>Condominium</td>\n",
       "      <td>23332.0</td>\n",
       "      <td>2.0</td>\n",
       "      <td>2.0</td>\n",
       "      <td>06/12/2017</td>\n",
       "      <td>433000.0</td>\n",
       "      <td>36498.0</td>\n",
       "      <td>04/03/2019</td>\n",
       "      <td>96.0</td>\n",
       "    </tr>\n",
       "    <tr>\n",
       "      <th>12</th>\n",
       "      <td>125 E 13th St 1003</td>\n",
       "      <td>60605</td>\n",
       "      <td>70474751.0</td>\n",
       "      <td>321140.0</td>\n",
       "      <td>2017.0</td>\n",
       "      <td>Condominium</td>\n",
       "      <td>23332.0</td>\n",
       "      <td>2.0</td>\n",
       "      <td>2.0</td>\n",
       "      <td>06/12/2017</td>\n",
       "      <td>433000.0</td>\n",
       "      <td>410062.0</td>\n",
       "      <td>04/03/2019</td>\n",
       "      <td>14320.0</td>\n",
       "    </tr>\n",
       "  </tbody>\n",
       "</table>\n",
       "</div>"
      ],
      "text/plain": [
       "                Address    Zip   Zillow ID       Tax  Tax Year    Home Type  \\\n",
       "0               5 14th   60605  60204228.0  248760.0    2017.0  Condominium   \n",
       "8     23 E 13th St 606   60605  70474983.0  513000.0    2017.0  Condominium   \n",
       "9        125 E 13th St   60605  70474811.0  490400.0    2017.0  Condominium   \n",
       "11  125 E 13th St 1002   60605  70474919.0   28050.0    2017.0  Condominium   \n",
       "12  125 E 13th St 1003   60605  70474751.0  321140.0    2017.0  Condominium   \n",
       "\n",
       "    Home Size  Bathrooms  Bedrooms   Sold Date  Sold Price  \\\n",
       "0     10593.0        2.0       2.0  05/27/2004    295000.0   \n",
       "8     78844.0        2.0       2.0  07/20/2012    525000.0   \n",
       "9     23332.0        2.0       2.0  04/17/2013    565000.0   \n",
       "11    23332.0        2.0       2.0  06/12/2017    433000.0   \n",
       "12    23332.0        2.0       2.0  06/12/2017    433000.0   \n",
       "\n",
       "    Current Estimated Value Estimated Date  Estimated Value Change  \n",
       "0                  395223.0     04/03/2019                 48923.0  \n",
       "8                  657483.0     04/03/2019                  -597.0  \n",
       "9                  645588.0     04/03/2019                -24410.0  \n",
       "11                  36498.0     04/03/2019                    96.0  \n",
       "12                 410062.0     04/03/2019                 14320.0  "
      ]
     },
     "execution_count": 53,
     "metadata": {},
     "output_type": "execute_result"
    }
   ],
   "source": [
    "# CHANGE COLUMN NAME\n",
    "condo_df = condo_df.rename(columns={\"Tax_Year\":\"Tax Year\",\"Last Sold Date\":\"Sold Date\",\"Last Sold Price\":\"Sold Price\",\n",
    "                                    \"Zestimate Amount\": \"Current Estimated Value\",\n",
    "                                    \"Zestimate Date\":\"Estimated Date\",\n",
    "                                    \"Zestimate Value Change\":\"Estimated Value Change\"})\n",
    "condo_df.head()"
   ]
  },
  {
   "cell_type": "code",
   "execution_count": 7,
   "metadata": {
    "scrolled": false
   },
   "outputs": [],
   "source": [
    "#sold $ vs current value\n",
    "number_1_bedroom = "
   ]
  },
  {
   "cell_type": "code",
   "execution_count": 43,
   "metadata": {
    "scrolled": false
   },
   "outputs": [
    {
     "data": {
      "image/png": "[encoded data removed]",
      "text/plain": [
       "<Figure size 432x288 with 1 Axes>"
      ]
     },
     "metadata": {
      "needs_background": "light"
     },
     "output_type": "display_data"
    }
   ],
   "source": [
    "#Histgram \n",
    "#Calc mean, median, std dev\n",
    "mean = condo_df['Current Estimated Value'].mean()\n",
    "median = condo_df['Current Estimated Value'].median()\n",
    "std = condo_df['Current Estimated Value'].std()\n",
    "mean_round = 'mean = ' + str(round(mean))\n",
    "median_round = 'median = ' + str(round(median))\n",
    "std_round = 'std.dv = ' + str(round(std))\n",
    "\n",
    "condo_df_hist_amount = condo_df.drop([0]).hist(['Current Estimated Value'],range=(100000,1000000),bins=19,alpha=0.5,color='c')\n",
    "plt.axvline(mean, color='b', linestyle='dashed', linewidth=1)\n",
    "plt.axvline(median, color='r', linestyle='dashed', linewidth=1)\n",
    "plt.annotate(mean_round,xy=(500000,1000),color='b')\n",
    "plt.annotate(median_round,xy=(500000,900),color='r')\n",
    "plt.annotate(std_round,xy=(700000,500),color='k')\n",
    "plt.xlabel('Current Estimated Value(USD)')\n",
    "plt.ylabel('Number of Zillow Data')\n",
    "plt.title('Current Estimated Value Histogram')\n",
    "plt.savefig(\"Images/histogram1.png\")"
   ]
  },
  {
   "cell_type": "code",
   "execution_count": 44,
   "metadata": {
    "scrolled": true
   },
   "outputs": [],
   "source": [
    "#Clean data for Increase% Histgram\n",
    "condo_df['Amount 30days before'] = condo_df['Current Estimated Value']-condo_df['Estimated Value Change']\n",
    "condo_df['Increase% for 30days'] = condo_df['Estimated Value Change']/condo_df['Amount 30days before']\n",
    "# Increase_df = general_df.dropna(subset=['Increase% for 30days']).map('{:,.2%}'.format)"
   ]
  },
  {
   "cell_type": "code",
   "execution_count": 45,
   "metadata": {
    "scrolled": true
   },
   "outputs": [
    {
     "data": {
      "image/png": "[encoded data removed]",
      "text/plain": [
       "<Figure size 432x288 with 1 Axes>"
      ]
     },
     "metadata": {
      "needs_background": "light"
     },
     "output_type": "display_data"
    }
   ],
   "source": [
    "# Show Increase% Histgram\n",
    "condo_df_hist_increase = condo_df.drop([0]).hist(['Increase% for 30days'],range=(-0.1,0.1),bins=9,alpha=0.5)\n",
    "plt.xlabel('Current Estimated Value Increase(%)')\n",
    "plt.ylabel('Number of Zillow Data')\n",
    "plt.title('Increase% Current Estimated Value Histogram')\n",
    "plt.savefig(\"Images/histogram2.png\")\n",
    "#plt.show()"
   ]
  },
  {
   "cell_type": "code",
   "execution_count": 46,
   "metadata": {
    "scrolled": true
   },
   "outputs": [
    {
     "data": {
      "image/png": "[encoded data removed]",
      "text/plain": [
       "<Figure size 432x288 with 1 Axes>"
      ]
     },
     "metadata": {
      "needs_background": "light"
     },
     "output_type": "display_data"
    }
   ],
   "source": [
    "# Calc correlation between Zestimate amount vs Bedrooms\n",
    "condo_df_zip1 = condo_df.loc[general_df['Zip']==60601]\n",
    "\n",
    "# Calc r\n",
    "r = np.corrcoef (condo_df_zip1['Bedrooms'], condo_df_zip1['Current Estimated Value'])[1,0]\n",
    "r_round = 'r =' + str(r.round(4))\n",
    "\n",
    "# Calc Linear function\n",
    "myXset = np.array(condo_df_zip1['Bedrooms'])\n",
    "myYset = np.array(condo_df_zip1['Current Estimated Value'])\n",
    "coefficient = np.polyfit(myXset, myYset, 1)\n",
    "Y_func = np.poly1d(coefficient)\n",
    "linear = 'y = ' + str(coefficient[0].round(0)) + 'X + ' + str(coefficient[1].round())\n",
    "linear\n",
    "\n",
    "# Show scatter\n",
    "sns.regplot(x='Bedrooms',y='Current Estimated Value',data=condo_df_zip1,truncate=True)\n",
    "plt.annotate(linear,xy=(6,2250000))\n",
    "plt.annotate(r_round,xy=(6,2000000))\n",
    "plt.savefig(\"Images/scatter.png\")"
   ]
  },
  {
   "cell_type": "code",
   "execution_count": 47,
   "metadata": {
    "scrolled": true
   },
   "outputs": [
    {
     "data": {
      "image/png": "[encoded data removed]",
      "text/plain": [
       "<Figure size 1440x720 with 1 Axes>"
      ]
     },
     "metadata": {
      "needs_background": "light"
     },
     "output_type": "display_data"
    }
   ],
   "source": [
    "# only focus on 2bed/2bath to see the variance of amount by zip\n",
    "Boxplot = condo_df.loc[condo_df['Bedrooms']==2].loc[condo_df['Bathrooms']==2]\n",
    "Boxplot.boxplot('Current Estimated Value',by=\"Zip\",figsize=(20, 10))\n",
    "plt.savefig(\"Images/boxplot.png\")"
   ]
  },
  {
   "cell_type": "code",
   "execution_count": null,
   "metadata": {},
   "outputs": [],
   "source": []
  },
  {
   "cell_type": "code",
   "execution_count": null,
   "metadata": {},
   "outputs": [],
   "source": []
  }
 ],
 "metadata": {
  "kernelspec": {
   "display_name": "Python 3",
   "language": "python",
   "name": "python3"
  },
  "language_info": {
   "codemirror_mode": {
    "name": "ipython",
    "version": 3
   },
   "file_extension": ".py",
   "mimetype": "text/x-python",
   "name": "python",
   "nbconvert_exporter": "python",
   "pygments_lexer": "ipython3",
   "version": "3.6.7"
  }
 },
 "nbformat": 4,
 "nbformat_minor": 2
}

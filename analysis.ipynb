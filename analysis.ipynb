{
 "cells": [
  {
   "cell_type": "code",
   "execution_count": 2,
   "metadata": {},
   "outputs": [],
   "source": [
    "# Dependencies and Setup\n",
    "import matplotlib.pyplot as plt\n",
    "import pandas as pd\n",
    "import numpy as np\n",
    "import requests\n",
    "import json\n",
    "import os\n",
    "import csv\n",
    "import seaborn as sns\n",
    "%matplotlib inline\n",
    "\n",
    "# The statistical module used to run chi square test\n",
    "import scipy.stats as stats"
   ]
  },
  {
   "cell_type": "code",
   "execution_count": 3,
   "metadata": {
    "scrolled": true
   },
   "outputs": [
    {
     "name": "stdout",
     "output_type": "stream",
     "text": [
      "7319\n"
     ]
    }
   ],
   "source": [
    "#Read csv\n",
    "general_df = pd.read_csv('final_zillow_info.csv').dropna() #dropping NAN from all the data in the table\n",
    "general_df.head()\n",
    "print(len(general_df))"
   ]
  },
  {
   "cell_type": "code",
   "execution_count": 4,
   "metadata": {
    "scrolled": false
   },
   "outputs": [],
   "source": [
    "condo_df = general_df.loc[general_df['Home Type']=='Condominium'] #creates a df for 'Condo' only"
   ]
  },
  {
   "cell_type": "code",
   "execution_count": 5,
   "metadata": {},
   "outputs": [
    {
     "data": {
      "text/html": [
       "<div>\n",
       "<style scoped>\n",
       "    .dataframe tbody tr th:only-of-type {\n",
       "        vertical-align: middle;\n",
       "    }\n",
       "\n",
       "    .dataframe tbody tr th {\n",
       "        vertical-align: top;\n",
       "    }\n",
       "\n",
       "    .dataframe thead th {\n",
       "        text-align: right;\n",
       "    }\n",
       "</style>\n",
       "<table border=\"1\" class=\"dataframe\">\n",
       "  <thead>\n",
       "    <tr style=\"text-align: right;\">\n",
       "      <th></th>\n",
       "      <th>Address</th>\n",
       "      <th>Zip</th>\n",
       "      <th>Zillow ID</th>\n",
       "      <th>Tax</th>\n",
       "      <th>Tax Year</th>\n",
       "      <th>Home Type</th>\n",
       "      <th>Home Size</th>\n",
       "      <th>Bathrooms</th>\n",
       "      <th>Bedrooms</th>\n",
       "      <th>Sold Date</th>\n",
       "      <th>Sold Price</th>\n",
       "      <th>Current Estimated Value</th>\n",
       "      <th>Estimated Date</th>\n",
       "      <th>Estimated Value Change</th>\n",
       "    </tr>\n",
       "  </thead>\n",
       "  <tbody>\n",
       "    <tr>\n",
       "      <th>0</th>\n",
       "      <td>5 14th</td>\n",
       "      <td>60605</td>\n",
       "      <td>60204228.0</td>\n",
       "      <td>248760.0</td>\n",
       "      <td>2017.0</td>\n",
       "      <td>Condominium</td>\n",
       "      <td>10593.0</td>\n",
       "      <td>2.0</td>\n",
       "      <td>2.0</td>\n",
       "      <td>05/27/2004</td>\n",
       "      <td>295000.0</td>\n",
       "      <td>395223.0</td>\n",
       "      <td>04/03/2019</td>\n",
       "      <td>48923.0</td>\n",
       "    </tr>\n",
       "    <tr>\n",
       "      <th>8</th>\n",
       "      <td>23 E 13th St 606</td>\n",
       "      <td>60605</td>\n",
       "      <td>70474983.0</td>\n",
       "      <td>513000.0</td>\n",
       "      <td>2017.0</td>\n",
       "      <td>Condominium</td>\n",
       "      <td>78844.0</td>\n",
       "      <td>2.0</td>\n",
       "      <td>2.0</td>\n",
       "      <td>07/20/2012</td>\n",
       "      <td>525000.0</td>\n",
       "      <td>657483.0</td>\n",
       "      <td>04/03/2019</td>\n",
       "      <td>-597.0</td>\n",
       "    </tr>\n",
       "    <tr>\n",
       "      <th>9</th>\n",
       "      <td>125 E 13th St</td>\n",
       "      <td>60605</td>\n",
       "      <td>70474811.0</td>\n",
       "      <td>490400.0</td>\n",
       "      <td>2017.0</td>\n",
       "      <td>Condominium</td>\n",
       "      <td>23332.0</td>\n",
       "      <td>2.0</td>\n",
       "      <td>2.0</td>\n",
       "      <td>04/17/2013</td>\n",
       "      <td>565000.0</td>\n",
       "      <td>645588.0</td>\n",
       "      <td>04/03/2019</td>\n",
       "      <td>-24410.0</td>\n",
       "    </tr>\n",
       "    <tr>\n",
       "      <th>11</th>\n",
       "      <td>125 E 13th St 1002</td>\n",
       "      <td>60605</td>\n",
       "      <td>70474919.0</td>\n",
       "      <td>28050.0</td>\n",
       "      <td>2017.0</td>\n",
       "      <td>Condominium</td>\n",
       "      <td>23332.0</td>\n",
       "      <td>2.0</td>\n",
       "      <td>2.0</td>\n",
       "      <td>06/12/2017</td>\n",
       "      <td>433000.0</td>\n",
       "      <td>36498.0</td>\n",
       "      <td>04/03/2019</td>\n",
       "      <td>96.0</td>\n",
       "    </tr>\n",
       "    <tr>\n",
       "      <th>12</th>\n",
       "      <td>125 E 13th St 1003</td>\n",
       "      <td>60605</td>\n",
       "      <td>70474751.0</td>\n",
       "      <td>321140.0</td>\n",
       "      <td>2017.0</td>\n",
       "      <td>Condominium</td>\n",
       "      <td>23332.0</td>\n",
       "      <td>2.0</td>\n",
       "      <td>2.0</td>\n",
       "      <td>06/12/2017</td>\n",
       "      <td>433000.0</td>\n",
       "      <td>410062.0</td>\n",
       "      <td>04/03/2019</td>\n",
       "      <td>14320.0</td>\n",
       "    </tr>\n",
       "  </tbody>\n",
       "</table>\n",
       "</div>"
      ],
      "text/plain": [
       "                Address    Zip   Zillow ID       Tax  Tax Year    Home Type  \\\n",
       "0               5 14th   60605  60204228.0  248760.0    2017.0  Condominium   \n",
       "8     23 E 13th St 606   60605  70474983.0  513000.0    2017.0  Condominium   \n",
       "9        125 E 13th St   60605  70474811.0  490400.0    2017.0  Condominium   \n",
       "11  125 E 13th St 1002   60605  70474919.0   28050.0    2017.0  Condominium   \n",
       "12  125 E 13th St 1003   60605  70474751.0  321140.0    2017.0  Condominium   \n",
       "\n",
       "    Home Size  Bathrooms  Bedrooms   Sold Date  Sold Price  \\\n",
       "0     10593.0        2.0       2.0  05/27/2004    295000.0   \n",
       "8     78844.0        2.0       2.0  07/20/2012    525000.0   \n",
       "9     23332.0        2.0       2.0  04/17/2013    565000.0   \n",
       "11    23332.0        2.0       2.0  06/12/2017    433000.0   \n",
       "12    23332.0        2.0       2.0  06/12/2017    433000.0   \n",
       "\n",
       "    Current Estimated Value Estimated Date  Estimated Value Change  \n",
       "0                  395223.0     04/03/2019                 48923.0  \n",
       "8                  657483.0     04/03/2019                  -597.0  \n",
       "9                  645588.0     04/03/2019                -24410.0  \n",
       "11                  36498.0     04/03/2019                    96.0  \n",
       "12                 410062.0     04/03/2019                 14320.0  "
      ]
     },
     "execution_count": 5,
     "metadata": {},
     "output_type": "execute_result"
    }
   ],
   "source": [
    "# CHANGE COLUMN NAME\n",
    "condo_final_df = condo_df.rename(columns={\"Tax_Year\":\"Tax Year\",\"Last Sold Date\":\"Sold Date\",\"Last Sold Price\":\"Sold Price\",\n",
    "                                    \"Zestimate Amount\": \"Current Estimated Value\",\n",
    "                                    \"Zestimate Date\":\"Estimated Date\",\n",
    "                                    \"Zestimate Value Change\":\"Estimated Value Change\"})\n",
    "condo_final_df.head()"
   ]
  },
  {
   "cell_type": "code",
   "execution_count": 9,
   "metadata": {
    "scrolled": true
   },
   "outputs": [],
   "source": [
    "#1, 2 and 3 bedrooms dataframe\n",
    "one_bedroom_df = condo_final_df[condo_final_df[\"Bedrooms\"] == 1.0]\n",
    "two_bedrooms_df = condo_final_df[condo_final_df[\"Bedrooms\"] == 2.0]\n",
    "three_bedrooms_df = condo_final_df[condo_final_df[\"Bedrooms\"] == 3.0]"
   ]
  },
  {
   "cell_type": "code",
   "execution_count": 14,
   "metadata": {},
   "outputs": [
    {
     "name": "stdout",
     "output_type": "stream",
     "text": [
      "5399\n"
     ]
    }
   ],
   "source": [
    "#Bedrooms dataframes combined\n",
    "frames = [one_bedroom_df, two_bedrooms_df, three_bedrooms_df]\n",
    "bedrooms_combined_df = pd.concat(frames)\n",
    "bedrooms_combined_df.head()\n",
    "print(len(bedrooms_combined_df))"
   ]
  },
  {
   "cell_type": "code",
   "execution_count": 15,
   "metadata": {},
   "outputs": [
    {
     "name": "stdout",
     "output_type": "stream",
     "text": [
      "Bedrooms\n",
      "1.0    2021\n",
      "2.0    2599\n",
      "3.0     779\n",
      "Name: Zillow ID, dtype: int64\n"
     ]
    },
    {
     "data": {
      "image/png": "[encoded data removed]",
      "text/plain": [
       "<Figure size 1440x720 with 1 Axes>"
      ]
     },
     "metadata": {},
     "output_type": "display_data"
    }
   ],
   "source": [
    "bedrooms_count = bedrooms_combined_df.groupby([\"Bedrooms\"]).count()[\"Zillow ID\"]\n",
    "print(bedrooms_count)\n",
    "\n",
    "#Bedrooms Pie Chart\n",
    "plt.pie(bedrooms_count,\n",
    "        labels=[\"1br\", \"2br\", \"3br\"],\n",
    "        autopct='%.1f%%', shadow=True, startangle=140,\n",
    "        textprops={\"fontsize\": 13}) # re-sizes fonts size\n",
    "plt.title(\"Bedroom Percentages\", fontsize=13)\n",
    "\n",
    "#Re-sizes plot pie\n",
    "bedrooms_count.plot(figsize=(20,10))\n",
    "\n",
    "#Save image\n",
    "plt.savefig(\"Images/bedroomPerc.png\")\n",
    "\n",
    "# Show Figure\n",
    "plt.show()"
   ]
  },
  {
   "cell_type": "code",
   "execution_count": 16,
   "metadata": {
    "scrolled": false
   },
   "outputs": [
    {
     "data": {
      "image/png": "[encoded data removed]",
      "text/plain": [
       "<Figure size 432x288 with 1 Axes>"
      ]
     },
     "metadata": {
      "needs_background": "light"
     },
     "output_type": "display_data"
    }
   ],
   "source": [
    "#Histgram \n",
    "#Calc mean, median, std dev\n",
    "mean = bedrooms_combined_df['Current Estimated Value'].mean()\n",
    "median = bedrooms_combined_df['Current Estimated Value'].median()\n",
    "std = bedrooms_combined_df['Current Estimated Value'].std()\n",
    "mean_round = 'mean = ' + str(round(mean))\n",
    "median_round = 'median = ' + str(round(median))\n",
    "std_round = 'std.dv = ' + str(round(std))\n",
    "\n",
    "condo_df_hist_amount = bedrooms_combined_df.drop([0]).hist(['Current Estimated Value'],range=(100000,1000000),bins=19,alpha=0.5,color='c')\n",
    "plt.axvline(mean, color='b', linestyle='dashed', linewidth=1, )\n",
    "plt.axvline(median, color='r', linestyle='dashed', linewidth=1)\n",
    "plt.annotate(mean_round,xy=(500000,1000),color='b')\n",
    "plt.annotate(median_round,xy=(500000,900),color='r')\n",
    "plt.annotate(std_round,xy=(700000,500),color='k')\n",
    "plt.xlabel('Current Estimated Value(USD)')\n",
    "plt.ylabel('Number of Properties')\n",
    "plt.title('Current Estimated Value')\n",
    "plt.savefig(\"Images/histogram1.png\")"
   ]
  },
  {
   "cell_type": "code",
   "execution_count": 17,
   "metadata": {
    "scrolled": true
   },
   "outputs": [],
   "source": [
    "#Clean data for Increase% Histgram\n",
    "bedrooms_combined_df['Amount 30days before'] = bedrooms_combined_df['Current Estimated Value']-bedrooms_combined_df['Estimated Value Change']\n",
    "bedrooms_combined_df['Increase% for 30days'] = bedrooms_combined_df['Estimated Value Change']/bedrooms_combined_df['Amount 30days before']"
   ]
  },
  {
   "cell_type": "code",
   "execution_count": 18,
   "metadata": {
    "scrolled": true
   },
   "outputs": [
    {
     "data": {
      "image/png": "[encoded data removed]",
      "text/plain": [
       "<Figure size 432x288 with 1 Axes>"
      ]
     },
     "metadata": {
      "needs_background": "light"
     },
     "output_type": "display_data"
    }
   ],
   "source": [
    "# Show Increase% Histgram\n",
    "condo_df_hist_increase = bedrooms_combined_df.drop([0]).hist(['Increase% for 30days'],range=(-0.1,0.1),bins=9,alpha=0.5)\n",
    "plt.xlabel('Current Estimated Value Increase(%)')\n",
    "plt.ylabel('Number of Properties')\n",
    "plt.title('30 Days % Increase of Current Estimated Value')\n",
    "plt.savefig(\"Images/histogram2.png\")\n",
    "#plt.show()"
   ]
  },
  {
   "cell_type": "code",
   "execution_count": 19,
   "metadata": {
    "scrolled": true
   },
   "outputs": [
    {
     "name": "stderr",
     "output_type": "stream",
     "text": [
      "/anaconda2/envs/PythonData/lib/python3.6/site-packages/scipy/stats/stats.py:1713: FutureWarning: Using a non-tuple sequence for multidimensional indexing is deprecated; use `arr[tuple(seq)]` instead of `arr[seq]`. In the future this will be interpreted as an array index, `arr[np.array(seq)]`, which will result either in an error or a different result.\n",
      "  return np.add.reduce(sorted[indexer] * weights, axis=axis) / sumval\n"
     ]
    },
    {
     "data": {
      "image/png": "[encoded data removed]",
      "text/plain": [
       "<Figure size 432x288 with 1 Axes>"
      ]
     },
     "metadata": {
      "needs_background": "light"
     },
     "output_type": "display_data"
    }
   ],
   "source": [
    "# Calc correlation between Zestimate amount vs Bedrooms\n",
    "condo_df_zip1 = bedrooms_combined_df.loc[general_df['Zip']==60601]\n",
    "\n",
    "# Calc r\n",
    "r = np.corrcoef (condo_df_zip1['Bedrooms'], condo_df_zip1['Current Estimated Value'])[1,0]\n",
    "r_round = 'r =' + str(r.round(4))\n",
    "\n",
    "# Calc Linear function\n",
    "myXset = np.array(condo_df_zip1['Bedrooms'])\n",
    "myYset = np.array(condo_df_zip1['Current Estimated Value'])\n",
    "coefficient = np.polyfit(myXset, myYset, 1)\n",
    "Y_func = np.poly1d(coefficient)\n",
    "linear = 'y = ' + str(coefficient[0].round(0)) + 'X + ' + str(coefficient[1].round())\n",
    "linear\n",
    "\n",
    "# Show scatter\n",
    "sns.regplot(x='Bedrooms',y='Current Estimated Value',data=condo_df_zip1,truncate=True)\n",
    "plt.annotate(linear,xy=(6,2250000))\n",
    "plt.annotate(r_round,xy=(6,2000000))\n",
    "\n",
    "plt.title('Zipcode 60601')\n",
    "plt.savefig(\"Images/scatter60601.png\")"
   ]
  },
  {
   "cell_type": "code",
   "execution_count": 25,
   "metadata": {},
   "outputs": [
    {
     "data": {
      "image/png": "[encoded data removed]",
      "text/plain": [
       "<Figure size 432x288 with 1 Axes>"
      ]
     },
     "metadata": {
      "needs_background": "light"
     },
     "output_type": "display_data"
    }
   ],
   "source": [
    "# Calc correlation between Zestimate amount vs Bedrooms\n",
    "condo_df_zip2 = bedrooms_combined_df.loc[general_df['Zip']==60605]\n",
    "\n",
    "# Calc r\n",
    "r = np.corrcoef (condo_df_zip2['Bedrooms'], condo_df_zip2['Current Estimated Value'])[1,0]\n",
    "r_round = 'r =' + str(r.round(4))\n",
    "\n",
    "# Calc Linear function\n",
    "myXset = np.array(condo_df_zip2['Bedrooms'])\n",
    "myYset = np.array(condo_df_zip2['Current Estimated Value'])\n",
    "coefficient = np.polyfit(myXset, myYset, 1)\n",
    "Y_func = np.poly1d(coefficient)\n",
    "linear = 'y = ' + str(coefficient[0].round(0)) + 'X + ' + str(coefficient[1].round())\n",
    "linear\n",
    "\n",
    "# Show scatter\n",
    "sns.regplot(x='Bedrooms',y='Current Estimated Value',data=condo_df_zip2,truncate=True)\n",
    "plt.annotate(linear,xy=(6,2250000))\n",
    "plt.annotate(r_round,xy=(6,2000000))\n",
    "\n",
    "plt.title('Zipcode 60605')\n",
    "plt.savefig(\"Images/scatter60605.png\")"
   ]
  },
  {
   "cell_type": "code",
   "execution_count": 27,
   "metadata": {},
   "outputs": [
    {
     "data": {
      "image/png": "[encoded data removed]",
      "text/plain": [
       "<Figure size 1440x720 with 1 Axes>"
      ]
     },
     "metadata": {
      "needs_background": "light"
     },
     "output_type": "display_data"
    }
   ],
   "source": [
    "# only focus on 1bed to see the variance of amount by zip\n",
    "one_bedroom_df.boxplot('Current Estimated Value',by=\"Zip\",figsize=(20, 10))\n",
    "plt.title('1 Bedrooms Current Estimated Value')\n",
    "plt.savefig(\"Images/boxplot1br.png\")"
   ]
  },
  {
   "cell_type": "code",
   "execution_count": 28,
   "metadata": {},
   "outputs": [
    {
     "ename": "NameError",
     "evalue": "name 'two_bedroom_df' is not defined",
     "output_type": "error",
     "traceback": [
      "\u001b[0;31m---------------------------------------------------------------------------\u001b[0m",
      "\u001b[0;31mNameError\u001b[0m                                 Traceback (most recent call last)",
      "\u001b[0;32m<ipython-input-28-a086f467df67>\u001b[0m in \u001b[0;36m<module>\u001b[0;34m\u001b[0m\n\u001b[1;32m      1\u001b[0m \u001b[0;31m# only focus on 2bed to see the variance of amount by zip\u001b[0m\u001b[0;34m\u001b[0m\u001b[0;34m\u001b[0m\u001b[0;34m\u001b[0m\u001b[0m\n\u001b[0;32m----> 2\u001b[0;31m \u001b[0mtwo_bedroom_df\u001b[0m\u001b[0;34m.\u001b[0m\u001b[0mboxplot\u001b[0m\u001b[0;34m(\u001b[0m\u001b[0;34m'Current Estimated Value'\u001b[0m\u001b[0;34m,\u001b[0m\u001b[0mby\u001b[0m\u001b[0;34m=\u001b[0m\u001b[0;34m\"Zip\"\u001b[0m\u001b[0;34m,\u001b[0m\u001b[0mfigsize\u001b[0m\u001b[0;34m=\u001b[0m\u001b[0;34m(\u001b[0m\u001b[0;36m20\u001b[0m\u001b[0;34m,\u001b[0m \u001b[0;36m10\u001b[0m\u001b[0;34m)\u001b[0m\u001b[0;34m)\u001b[0m\u001b[0;34m\u001b[0m\u001b[0;34m\u001b[0m\u001b[0m\n\u001b[0m\u001b[1;32m      3\u001b[0m \u001b[0mplt\u001b[0m\u001b[0;34m.\u001b[0m\u001b[0mtitle\u001b[0m\u001b[0;34m(\u001b[0m\u001b[0;34m'2 Bedrooms Current Estimated Value'\u001b[0m\u001b[0;34m)\u001b[0m\u001b[0;34m\u001b[0m\u001b[0;34m\u001b[0m\u001b[0m\n\u001b[1;32m      4\u001b[0m \u001b[0mplt\u001b[0m\u001b[0;34m.\u001b[0m\u001b[0msavefig\u001b[0m\u001b[0;34m(\u001b[0m\u001b[0;34m\"Images/boxplot2br.png\"\u001b[0m\u001b[0;34m)\u001b[0m\u001b[0;34m\u001b[0m\u001b[0;34m\u001b[0m\u001b[0m\n",
      "\u001b[0;31mNameError\u001b[0m: name 'two_bedroom_df' is not defined"
     ]
    }
   ],
   "source": [
    "# only focus on 2bed to see the variance of amount by zip\n",
    "two_bedroom_df.boxplot('Current Estimated Value',by=\"Zip\",figsize=(20, 10))\n",
    "plt.title('2 Bedrooms Current Estimated Value')\n",
    "plt.savefig(\"Images/boxplot2br.png\")"
   ]
  },
  {
   "cell_type": "markdown",
   "metadata": {},
   "source": [
    "# Chi-square Caulculations"
   ]
  },
  {
   "cell_type": "code",
   "execution_count": 21,
   "metadata": {},
   "outputs": [
    {
     "data": {
      "text/html": [
       "<div>\n",
       "<style scoped>\n",
       "    .dataframe tbody tr th:only-of-type {\n",
       "        vertical-align: middle;\n",
       "    }\n",
       "\n",
       "    .dataframe tbody tr th {\n",
       "        vertical-align: top;\n",
       "    }\n",
       "\n",
       "    .dataframe thead th {\n",
       "        text-align: right;\n",
       "    }\n",
       "</style>\n",
       "<table border=\"1\" class=\"dataframe\">\n",
       "  <thead>\n",
       "    <tr style=\"text-align: right;\">\n",
       "      <th></th>\n",
       "      <th>observed</th>\n",
       "      <th>expected</th>\n",
       "    </tr>\n",
       "  </thead>\n",
       "  <tbody>\n",
       "    <tr>\n",
       "      <th>1br</th>\n",
       "      <td>2021</td>\n",
       "      <td>1799.66</td>\n",
       "    </tr>\n",
       "    <tr>\n",
       "      <th>2br</th>\n",
       "      <td>2599</td>\n",
       "      <td>1799.66</td>\n",
       "    </tr>\n",
       "    <tr>\n",
       "      <th>3br</th>\n",
       "      <td>779</td>\n",
       "      <td>1799.66</td>\n",
       "    </tr>\n",
       "  </tbody>\n",
       "</table>\n",
       "</div>"
      ],
      "text/plain": [
       "     observed  expected\n",
       "1br      2021   1799.66\n",
       "2br      2599   1799.66\n",
       "3br       779   1799.66"
      ]
     },
     "execution_count": 21,
     "metadata": {},
     "output_type": "execute_result"
    }
   ],
   "source": [
    "\n",
    "one_br = bedrooms_combined_df.loc[bedrooms_combined_df['Bedrooms']==1]\n",
    "one_br_count = len(one_br)\n",
    "\n",
    "two_br = bedrooms_combined_df.loc[bedrooms_combined_df['Bedrooms']==2]\n",
    "two_br_count = len(two_br)\n",
    "\n",
    "three_br = bedrooms_combined_df.loc[bedrooms_combined_df['Bedrooms']==3]\n",
    "three_br_count = len(three_br)\n",
    "\n",
    "# Observed data in a (hypothetical) number of 5399 properties\n",
    "observed = pd.Series([one_br_count, two_br_count, three_br_count], index=[\"1br\", \"2br\", \"3br\"])\n",
    "\n",
    "# Create a data frame\n",
    "df = pd.DataFrame([observed]).T\n",
    "\n",
    "# Add a column whose default values are the expected values\n",
    "df[1] = 1799.66\n",
    "\n",
    "# Rename the columns\n",
    "df.columns = [\"observed\", \"expected\"]\n",
    "\n",
    "# View the data frame\n",
    "df"
   ]
  },
  {
   "cell_type": "code",
   "execution_count": 22,
   "metadata": {},
   "outputs": [],
   "source": [
    "# With four rows, the degree of freedom is 3-1 = 2\n",
    "# With a p-value of 0.05, the confidence level is 1.00-0.05 = 0.95.\n",
    "critical_value = stats.chi2.ppf(q = 0.95, df = 2)"
   ]
  },
  {
   "cell_type": "code",
   "execution_count": 23,
   "metadata": {},
   "outputs": [
    {
     "data": {
      "text/plain": [
       "5.991464547107979"
      ]
     },
     "execution_count": 23,
     "metadata": {},
     "output_type": "execute_result"
    }
   ],
   "source": [
    "# The critical value\n",
    "critical_value"
   ]
  },
  {
   "cell_type": "code",
   "execution_count": 24,
   "metadata": {},
   "outputs": [
    {
     "data": {
      "text/plain": [
       "Power_divergenceResult(statistic=961.1163590900503, pvalue=1.9780369049383863e-209)"
      ]
     },
     "execution_count": 24,
     "metadata": {},
     "output_type": "execute_result"
    }
   ],
   "source": [
    "# Run the chi square test with stats.chisquare()\n",
    "stats.chisquare(df['observed'], df['expected'])"
   ]
  },
  {
   "cell_type": "markdown",
   "metadata": {},
   "source": [
    "### Pvalue definition: \n",
    "In the majority of analyses, an alpha of 0.05 is used as the cutoff for significance. If the p-value is less than 0.05, we reject the null hypothesis that there's no difference between the means and conclude that a significant difference does exist"
   ]
  },
  {
   "cell_type": "code",
   "execution_count": 150,
   "metadata": {},
   "outputs": [
    {
     "data": {
      "text/plain": [
       "562736.7907573812"
      ]
     },
     "execution_count": 150,
     "metadata": {},
     "output_type": "execute_result"
    }
   ],
   "source": [
    "# Calculate the Taska\n",
    "one_br.Tax.mean()\n",
    "two_br.Tax.mean()\n",
    "three_br.Tax.mean()"
   ]
  },
  {
   "cell_type": "code",
   "execution_count": 154,
   "metadata": {},
   "outputs": [
    {
     "data": {
      "text/plain": [
       "Ttest_indResult(statistic=-26.698675682036576, pvalue=4.337649601805313e-145)"
      ]
     },
     "execution_count": 154,
     "metadata": {},
     "output_type": "execute_result"
    }
   ],
   "source": [
    "# Calculate Independent (Two Sample) T-Test -> 1 and 2 bedrooms\n",
    "stats.ttest_ind(one_br.Tax, two_br.Tax, equal_var=False)"
   ]
  },
  {
   "cell_type": "code",
   "execution_count": 152,
   "metadata": {},
   "outputs": [
    {
     "data": {
      "text/plain": [
       "Ttest_indResult(statistic=-27.653781377759532, pvalue=1.9254712632034193e-119)"
      ]
     },
     "execution_count": 152,
     "metadata": {},
     "output_type": "execute_result"
    }
   ],
   "source": [
    "# Calculate Independent (Two Sample) T-Test -> 1 and 3 bedrooms\n",
    "stats.ttest_ind(one_br.Tax, three_br.Tax,equal_var=False)"
   ]
  },
  {
   "cell_type": "code",
   "execution_count": 143,
   "metadata": {},
   "outputs": [
    {
     "data": {
      "text/plain": [
       "Ttest_indResult(statistic=-18.99535950593644, pvalue=8.034261859373141e-68)"
      ]
     },
     "execution_count": 143,
     "metadata": {},
     "output_type": "execute_result"
    }
   ],
   "source": [
    "# Calculate Independent (Two Sample) T-Test -> 2 and 3 bedrooms\n",
    "stats.ttest_ind(two_br.Tax, three_br.Tax,equal_var=False)"
   ]
  },
  {
   "cell_type": "code",
   "execution_count": null,
   "metadata": {},
   "outputs": [],
   "source": []
  },
  {
   "cell_type": "code",
   "execution_count": null,
   "metadata": {},
   "outputs": [],
   "source": []
  }
 ],
 "metadata": {
  "kernelspec": {
   "display_name": "Python 3",
   "language": "python",
   "name": "python3"
  },
  "language_info": {
   "codemirror_mode": {
    "name": "ipython",
    "version": 3
   },
   "file_extension": ".py",
   "mimetype": "text/x-python",
   "name": "python",
   "nbconvert_exporter": "python",
   "pygments_lexer": "ipython3",
   "version": "3.6.7"
  }
 },
 "nbformat": 4,
 "nbformat_minor": 2
}

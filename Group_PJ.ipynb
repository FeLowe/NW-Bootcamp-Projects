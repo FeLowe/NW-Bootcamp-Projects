{
 "cells": [
  {
   "cell_type": "code",
   "execution_count": 1,
   "metadata": {},
   "outputs": [],
   "source": [
    "# Dependencies\n",
    "import requests\n",
    "import json\n",
    "import pandas as pd\n",
    "\n",
    "# Google API Key\n",
    "from config import api_key"
   ]
  },
  {
   "cell_type": "code",
   "execution_count": 2,
   "metadata": {},
   "outputs": [],
   "source": [
    "from pyzillow.pyzillow import ZillowWrapper, GetDeepSearchResults"
   ]
  },
  {
   "cell_type": "code",
   "execution_count": 3,
   "metadata": {
    "scrolled": true
   },
   "outputs": [
    {
     "data": {
      "text/plain": [
       "'03/31/2019'"
      ]
     },
     "execution_count": 3,
     "metadata": {},
     "output_type": "execute_result"
    }
   ],
   "source": [
    "address = '125 E 13th St 1001'\n",
    "zipcode = '60605'\n",
    "zillow_data = ZillowWrapper(api_key)\n",
    "deep_search_response = zillow_data.get_deep_search_results(address, zipcode)\n",
    "result = GetDeepSearchResults(deep_search_response)\n",
    "result.zestimate_amount\n",
    "result.zestimate_last_updated"
   ]
  },
  {
   "cell_type": "code",
   "execution_count": 4,
   "metadata": {},
   "outputs": [
    {
     "data": {
      "text/plain": [
       "'41.86799'"
      ]
     },
     "execution_count": 4,
     "metadata": {},
     "output_type": "execute_result"
    }
   ],
   "source": [
    "#https://pypi.org/project/pyzillow/\n",
    "#https://www.pydoc.io/pypi/python-zillow-0.2.0/autoapi/api/index.html\n",
    "address = 'S Delano'\n",
    "zipcode = '60605'\n",
    "zillow_data = ZillowWrapper(api_key)\n",
    "deep_search_response = zillow_data.get_deep_search_results(address, zipcode)\n",
    "result = GetDeepSearchResults(deep_search_response)\n",
    "result.latitude"
   ]
  }
 ],
 "metadata": {
  "kernelspec": {
   "display_name": "Python 3",
   "language": "python",
   "name": "python3"
  },
  "language_info": {
   "codemirror_mode": {
    "name": "ipython",
    "version": 3
   },
   "file_extension": ".py",
   "mimetype": "text/x-python",
   "name": "python",
   "nbconvert_exporter": "python",
   "pygments_lexer": "ipython3",
   "version": "3.6.8"
  }
 },
 "nbformat": 4,
 "nbformat_minor": 2
}
